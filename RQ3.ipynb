{
  "nbformat": 4,
  "nbformat_minor": 0,
  "metadata": {
    "colab": {
      "name": "RQ3.ipynb",
      "provenance": [],
      "collapsed_sections": [],
      "include_colab_link": true
    },
    "kernelspec": {
      "name": "python3",
      "display_name": "Python 3"
    },
    "accelerator": "GPU",
    "widgets": {
      "application/vnd.jupyter.widget-state+json": {
        "9d2cfc1a19274d459006f3afe2b758be": {
          "model_module": "@jupyter-widgets/controls",
          "model_name": "HBoxModel",
          "state": {
            "_view_name": "HBoxView",
            "_dom_classes": [],
            "_model_name": "HBoxModel",
            "_view_module": "@jupyter-widgets/controls",
            "_model_module_version": "1.5.0",
            "_view_count": null,
            "_view_module_version": "1.5.0",
            "box_style": "",
            "layout": "IPY_MODEL_8668cd3468654759bb02ab7e3c673c33",
            "_model_module": "@jupyter-widgets/controls",
            "children": [
              "IPY_MODEL_45911f27f01a4853ba3e45369a384328",
              "IPY_MODEL_da0afb32e2cc477188d9cc015fd8ee73"
            ]
          }
        },
        "8668cd3468654759bb02ab7e3c673c33": {
          "model_module": "@jupyter-widgets/base",
          "model_name": "LayoutModel",
          "state": {
            "_view_name": "LayoutView",
            "grid_template_rows": null,
            "right": null,
            "justify_content": null,
            "_view_module": "@jupyter-widgets/base",
            "overflow": null,
            "_model_module_version": "1.2.0",
            "_view_count": null,
            "flex_flow": null,
            "width": null,
            "min_width": null,
            "border": null,
            "align_items": null,
            "bottom": null,
            "_model_module": "@jupyter-widgets/base",
            "top": null,
            "grid_column": null,
            "overflow_y": null,
            "overflow_x": null,
            "grid_auto_flow": null,
            "grid_area": null,
            "grid_template_columns": null,
            "flex": null,
            "_model_name": "LayoutModel",
            "justify_items": null,
            "grid_row": null,
            "max_height": null,
            "align_content": null,
            "visibility": null,
            "align_self": null,
            "height": null,
            "min_height": null,
            "padding": null,
            "grid_auto_rows": null,
            "grid_gap": null,
            "max_width": null,
            "order": null,
            "_view_module_version": "1.2.0",
            "grid_template_areas": null,
            "object_position": null,
            "object_fit": null,
            "grid_auto_columns": null,
            "margin": null,
            "display": null,
            "left": null
          }
        },
        "45911f27f01a4853ba3e45369a384328": {
          "model_module": "@jupyter-widgets/controls",
          "model_name": "FloatProgressModel",
          "state": {
            "_view_name": "ProgressView",
            "style": "IPY_MODEL_9aea446e4f284fcc84a1814f5c4555b9",
            "_dom_classes": [],
            "description": "100%",
            "_model_name": "FloatProgressModel",
            "bar_style": "success",
            "max": 10,
            "_view_module": "@jupyter-widgets/controls",
            "_model_module_version": "1.5.0",
            "value": 10,
            "_view_count": null,
            "_view_module_version": "1.5.0",
            "orientation": "horizontal",
            "min": 0,
            "description_tooltip": null,
            "_model_module": "@jupyter-widgets/controls",
            "layout": "IPY_MODEL_86e56a0986354cf7af0168ff94ebd4f6"
          }
        },
        "da0afb32e2cc477188d9cc015fd8ee73": {
          "model_module": "@jupyter-widgets/controls",
          "model_name": "HTMLModel",
          "state": {
            "_view_name": "HTMLView",
            "style": "IPY_MODEL_18319bc12f2947e3b678a7e3422974ed",
            "_dom_classes": [],
            "description": "",
            "_model_name": "HTMLModel",
            "placeholder": "​",
            "_view_module": "@jupyter-widgets/controls",
            "_model_module_version": "1.5.0",
            "value": " 10/10 [00:00&lt;00:00, 45.51it/s, loss=0.0001]",
            "_view_count": null,
            "_view_module_version": "1.5.0",
            "description_tooltip": null,
            "_model_module": "@jupyter-widgets/controls",
            "layout": "IPY_MODEL_ea574b35506e4f72a12dd893d98d4451"
          }
        },
        "9aea446e4f284fcc84a1814f5c4555b9": {
          "model_module": "@jupyter-widgets/controls",
          "model_name": "ProgressStyleModel",
          "state": {
            "_view_name": "StyleView",
            "_model_name": "ProgressStyleModel",
            "description_width": "initial",
            "_view_module": "@jupyter-widgets/base",
            "_model_module_version": "1.5.0",
            "_view_count": null,
            "_view_module_version": "1.2.0",
            "bar_color": null,
            "_model_module": "@jupyter-widgets/controls"
          }
        },
        "86e56a0986354cf7af0168ff94ebd4f6": {
          "model_module": "@jupyter-widgets/base",
          "model_name": "LayoutModel",
          "state": {
            "_view_name": "LayoutView",
            "grid_template_rows": null,
            "right": null,
            "justify_content": null,
            "_view_module": "@jupyter-widgets/base",
            "overflow": null,
            "_model_module_version": "1.2.0",
            "_view_count": null,
            "flex_flow": null,
            "width": null,
            "min_width": null,
            "border": null,
            "align_items": null,
            "bottom": null,
            "_model_module": "@jupyter-widgets/base",
            "top": null,
            "grid_column": null,
            "overflow_y": null,
            "overflow_x": null,
            "grid_auto_flow": null,
            "grid_area": null,
            "grid_template_columns": null,
            "flex": null,
            "_model_name": "LayoutModel",
            "justify_items": null,
            "grid_row": null,
            "max_height": null,
            "align_content": null,
            "visibility": null,
            "align_self": null,
            "height": null,
            "min_height": null,
            "padding": null,
            "grid_auto_rows": null,
            "grid_gap": null,
            "max_width": null,
            "order": null,
            "_view_module_version": "1.2.0",
            "grid_template_areas": null,
            "object_position": null,
            "object_fit": null,
            "grid_auto_columns": null,
            "margin": null,
            "display": null,
            "left": null
          }
        },
        "18319bc12f2947e3b678a7e3422974ed": {
          "model_module": "@jupyter-widgets/controls",
          "model_name": "DescriptionStyleModel",
          "state": {
            "_view_name": "StyleView",
            "_model_name": "DescriptionStyleModel",
            "description_width": "",
            "_view_module": "@jupyter-widgets/base",
            "_model_module_version": "1.5.0",
            "_view_count": null,
            "_view_module_version": "1.2.0",
            "_model_module": "@jupyter-widgets/controls"
          }
        },
        "ea574b35506e4f72a12dd893d98d4451": {
          "model_module": "@jupyter-widgets/base",
          "model_name": "LayoutModel",
          "state": {
            "_view_name": "LayoutView",
            "grid_template_rows": null,
            "right": null,
            "justify_content": null,
            "_view_module": "@jupyter-widgets/base",
            "overflow": null,
            "_model_module_version": "1.2.0",
            "_view_count": null,
            "flex_flow": null,
            "width": null,
            "min_width": null,
            "border": null,
            "align_items": null,
            "bottom": null,
            "_model_module": "@jupyter-widgets/base",
            "top": null,
            "grid_column": null,
            "overflow_y": null,
            "overflow_x": null,
            "grid_auto_flow": null,
            "grid_area": null,
            "grid_template_columns": null,
            "flex": null,
            "_model_name": "LayoutModel",
            "justify_items": null,
            "grid_row": null,
            "max_height": null,
            "align_content": null,
            "visibility": null,
            "align_self": null,
            "height": null,
            "min_height": null,
            "padding": null,
            "grid_auto_rows": null,
            "grid_gap": null,
            "max_width": null,
            "order": null,
            "_view_module_version": "1.2.0",
            "grid_template_areas": null,
            "object_position": null,
            "object_fit": null,
            "grid_auto_columns": null,
            "margin": null,
            "display": null,
            "left": null
          }
        }
      }
    }
  },
  "cells": [
    {
      "cell_type": "markdown",
      "metadata": {
        "id": "view-in-github",
        "colab_type": "text"
      },
      "source": [
        "<a href=\"https://colab.research.google.com/github/nvarasp/Project_IRWA/blob/main/RQ3.ipynb\" target=\"_parent\"><img src=\"https://colab.research.google.com/assets/colab-badge.svg\" alt=\"Open In Colab\"/></a>"
      ]
    },
    {
      "cell_type": "markdown",
      "metadata": {
        "id": "AqGAgEMBKqSi"
      },
      "source": [
        "# Link Analysis"
      ]
    },
    {
      "cell_type": "markdown",
      "metadata": {
        "id": "dh663I0_K1qB"
      },
      "source": [
        "## 0 - Imports and Setup"
      ]
    },
    {
      "cell_type": "code",
      "metadata": {
        "colab": {
          "base_uri": "https://localhost:8080/"
        },
        "id": "Oi38s7APK5Zd",
        "outputId": "2d0dca99-f87c-4896-dc75-5bf0c53c2886"
      },
      "source": [
        "%%time\n",
        "from google.colab import drive\n",
        "drive.mount('/content/drive')\n",
        "\n",
        "OUTPUT_FILENAME = \"/content/drive/My Drive/IRWA/FinalProject/data/tweets_covid_collected.json\"\n",
        "INPUT_FILENAME= \"/content/drive/My Drive/IRWA/FinalProject/data/tweets_covid.json\"\n",
        "#save_json=\"/content/drive/My Drive/IRWA/FinalProject/notebook/\"\n"
      ],
      "execution_count": 1,
      "outputs": [
        {
          "output_type": "stream",
          "text": [
            "Drive already mounted at /content/drive; to attempt to forcibly remount, call drive.mount(\"/content/drive\", force_remount=True).\n",
            "CPU times: user 245 µs, sys: 0 ns, total: 245 µs\n",
            "Wall time: 1.46 ms\n"
          ],
          "name": "stdout"
        }
      ]
    },
    {
      "cell_type": "code",
      "metadata": {
        "id": "2RgFdVluLA_2"
      },
      "source": [
        "%%capture\n",
        "!pip install config"
      ],
      "execution_count": 2,
      "outputs": []
    },
    {
      "cell_type": "code",
      "metadata": {
        "colab": {
          "base_uri": "https://localhost:8080/"
        },
        "id": "sCxEigfKMMaE",
        "outputId": "803bc67d-41d3-48a1-d2b1-d38aa1ceddcc"
      },
      "source": [
        "!pip install implicit"
      ],
      "execution_count": 3,
      "outputs": [
        {
          "output_type": "stream",
          "text": [
            "Requirement already satisfied: implicit in /usr/local/lib/python3.6/dist-packages (0.4.4)\n",
            "Requirement already satisfied: tqdm>=4.27 in /usr/local/lib/python3.6/dist-packages (from implicit) (4.41.1)\n",
            "Requirement already satisfied: numpy in /usr/local/lib/python3.6/dist-packages (from implicit) (1.19.4)\n",
            "Requirement already satisfied: scipy>=0.16 in /usr/local/lib/python3.6/dist-packages (from implicit) (1.4.1)\n"
          ],
          "name": "stdout"
        }
      ]
    },
    {
      "cell_type": "code",
      "metadata": {
        "colab": {
          "base_uri": "https://localhost:8080/"
        },
        "id": "KKD140pUMN7w",
        "outputId": "fa606579-5c1b-47a2-d8b1-d260fe82540f"
      },
      "source": [
        "!pip install cairocffi"
      ],
      "execution_count": 4,
      "outputs": [
        {
          "output_type": "stream",
          "text": [
            "Requirement already satisfied: cairocffi in /usr/local/lib/python3.6/dist-packages (1.2.0)\n",
            "Requirement already satisfied: cffi>=1.1.0 in /usr/local/lib/python3.6/dist-packages (from cairocffi) (1.14.4)\n",
            "Requirement already satisfied: pycparser in /usr/local/lib/python3.6/dist-packages (from cffi>=1.1.0->cairocffi) (2.20)\n"
          ],
          "name": "stdout"
        }
      ]
    },
    {
      "cell_type": "code",
      "metadata": {
        "colab": {
          "base_uri": "https://localhost:8080/"
        },
        "id": "Tcc6Es3pMMkJ",
        "outputId": "578994b3-e2c7-4300-e1e2-afe10479cb9d"
      },
      "source": [
        "!pip install python-igraph"
      ],
      "execution_count": 5,
      "outputs": [
        {
          "output_type": "stream",
          "text": [
            "Requirement already satisfied: python-igraph in /usr/local/lib/python3.6/dist-packages (0.8.3)\n",
            "Requirement already satisfied: texttable>=1.6.2 in /usr/local/lib/python3.6/dist-packages (from python-igraph) (1.6.3)\n"
          ],
          "name": "stdout"
        }
      ]
    },
    {
      "cell_type": "code",
      "metadata": {
        "id": "EueMbQ9oLBIb"
      },
      "source": [
        "import json\n",
        "import pandas as pd\n",
        "import numpy as np\n",
        "import matplotlib.pyplot as plt\n",
        "import csv\n",
        "import seaborn as sns\n",
        "import datetime\n",
        "import time\n",
        "\n",
        "# Import necessary libraries for graphs\n",
        "from igraph import *\n",
        "import numpy as np\n",
        "import functools \n",
        "import igraph\n",
        "import pandas as pd\n",
        "import matplotlib.pyplot as plt\n",
        "from scipy.sparse import csr_matrix\n",
        "from collections import Counter\n",
        "import implicit\n",
        "from sklearn.model_selection import train_test_split\n",
        "import random"
      ],
      "execution_count": 6,
      "outputs": []
    },
    {
      "cell_type": "markdown",
      "metadata": {
        "id": "6HZp8cTwRPIy"
      },
      "source": [
        "###0.1 - Read the tweets file"
      ]
    },
    {
      "cell_type": "code",
      "metadata": {
        "id": "BNMcQhaSRFHA"
      },
      "source": [
        "with open(INPUT_FILENAME, \"rb\") as f:\n",
        "    data = f.readlines()\n",
        "    data = [json.loads(str_) for str_ in data]"
      ],
      "execution_count": 7,
      "outputs": []
    },
    {
      "cell_type": "markdown",
      "metadata": {
        "id": "eLza638WRw3A"
      },
      "source": [
        "Then, we inspect our data."
      ]
    },
    {
      "cell_type": "code",
      "metadata": {
        "colab": {
          "base_uri": "https://localhost:8080/",
          "height": 517
        },
        "id": "g4jA-r6zRZsm",
        "outputId": "96845934-2239-4c51-e625-96a4ee5e103a"
      },
      "source": [
        "df_tweets = pd.DataFrame.from_records(data)\n",
        "df_tweets.head()"
      ],
      "execution_count": 8,
      "outputs": [
        {
          "output_type": "execute_result",
          "data": {
            "text/html": [
              "<div>\n",
              "<style scoped>\n",
              "    .dataframe tbody tr th:only-of-type {\n",
              "        vertical-align: middle;\n",
              "    }\n",
              "\n",
              "    .dataframe tbody tr th {\n",
              "        vertical-align: top;\n",
              "    }\n",
              "\n",
              "    .dataframe thead th {\n",
              "        text-align: right;\n",
              "    }\n",
              "</style>\n",
              "<table border=\"1\" class=\"dataframe\">\n",
              "  <thead>\n",
              "    <tr style=\"text-align: right;\">\n",
              "      <th></th>\n",
              "      <th>created_at</th>\n",
              "      <th>id</th>\n",
              "      <th>id_str</th>\n",
              "      <th>full_text</th>\n",
              "      <th>truncated</th>\n",
              "      <th>display_text_range</th>\n",
              "      <th>entities</th>\n",
              "      <th>extended_entities</th>\n",
              "      <th>source</th>\n",
              "      <th>in_reply_to_status_id</th>\n",
              "      <th>in_reply_to_status_id_str</th>\n",
              "      <th>in_reply_to_user_id</th>\n",
              "      <th>in_reply_to_user_id_str</th>\n",
              "      <th>in_reply_to_screen_name</th>\n",
              "      <th>user</th>\n",
              "      <th>geo</th>\n",
              "      <th>coordinates</th>\n",
              "      <th>place</th>\n",
              "      <th>contributors</th>\n",
              "      <th>is_quote_status</th>\n",
              "      <th>retweet_count</th>\n",
              "      <th>favorite_count</th>\n",
              "      <th>favorited</th>\n",
              "      <th>retweeted</th>\n",
              "      <th>possibly_sensitive</th>\n",
              "      <th>lang</th>\n",
              "      <th>retweeted_status</th>\n",
              "      <th>quoted_status_id</th>\n",
              "      <th>quoted_status_id_str</th>\n",
              "      <th>quoted_status_permalink</th>\n",
              "      <th>quoted_status</th>\n",
              "      <th>withheld_in_countries</th>\n",
              "    </tr>\n",
              "  </thead>\n",
              "  <tbody>\n",
              "    <tr>\n",
              "      <th>0</th>\n",
              "      <td>Wed Nov 18 10:19:01 +0000 2020</td>\n",
              "      <td>1329006187384279042</td>\n",
              "      <td>1329006187384279042</td>\n",
              "      <td>With the pressures of Brexit &amp;amp; COVID-19, i...</td>\n",
              "      <td>False</td>\n",
              "      <td>[0, 237]</td>\n",
              "      <td>{'hashtags': [], 'symbols': [], 'user_mentions...</td>\n",
              "      <td>{'media': [{'id': 1329006184850989058, 'id_str...</td>\n",
              "      <td>&lt;a href=\"https://sproutsocial.com\" rel=\"nofoll...</td>\n",
              "      <td>NaN</td>\n",
              "      <td>None</td>\n",
              "      <td>NaN</td>\n",
              "      <td>None</td>\n",
              "      <td>None</td>\n",
              "      <td>{'id': 867655190, 'id_str': '867655190', 'name...</td>\n",
              "      <td>None</td>\n",
              "      <td>None</td>\n",
              "      <td>None</td>\n",
              "      <td>None</td>\n",
              "      <td>False</td>\n",
              "      <td>0</td>\n",
              "      <td>0</td>\n",
              "      <td>False</td>\n",
              "      <td>False</td>\n",
              "      <td>False</td>\n",
              "      <td>en</td>\n",
              "      <td>NaN</td>\n",
              "      <td>NaN</td>\n",
              "      <td>NaN</td>\n",
              "      <td>NaN</td>\n",
              "      <td>NaN</td>\n",
              "      <td>NaN</td>\n",
              "    </tr>\n",
              "    <tr>\n",
              "      <th>1</th>\n",
              "      <td>Wed Nov 18 10:19:01 +0000 2020</td>\n",
              "      <td>1329006187535163392</td>\n",
              "      <td>1329006187535163392</td>\n",
              "      <td>RT @koshersemite: It’s coronavirus’s first bir...</td>\n",
              "      <td>False</td>\n",
              "      <td>[0, 101]</td>\n",
              "      <td>{'hashtags': [], 'symbols': [], 'user_mentions...</td>\n",
              "      <td>{'media': [{'id': 1328912184689250305, 'id_str...</td>\n",
              "      <td>&lt;a href=\"http://twitter.com/download/android\" ...</td>\n",
              "      <td>NaN</td>\n",
              "      <td>None</td>\n",
              "      <td>NaN</td>\n",
              "      <td>None</td>\n",
              "      <td>None</td>\n",
              "      <td>{'id': 285865405, 'id_str': '285865405', 'name...</td>\n",
              "      <td>None</td>\n",
              "      <td>None</td>\n",
              "      <td>None</td>\n",
              "      <td>None</td>\n",
              "      <td>False</td>\n",
              "      <td>29</td>\n",
              "      <td>0</td>\n",
              "      <td>False</td>\n",
              "      <td>False</td>\n",
              "      <td>False</td>\n",
              "      <td>en</td>\n",
              "      <td>{'created_at': 'Wed Nov 18 04:05:30 +0000 2020...</td>\n",
              "      <td>NaN</td>\n",
              "      <td>NaN</td>\n",
              "      <td>NaN</td>\n",
              "      <td>NaN</td>\n",
              "      <td>NaN</td>\n",
              "    </tr>\n",
              "    <tr>\n",
              "      <th>2</th>\n",
              "      <td>Wed Nov 18 10:19:01 +0000 2020</td>\n",
              "      <td>1329006187707199488</td>\n",
              "      <td>1329006187707199488</td>\n",
              "      <td>RT @Pollytics: Just a reminder that all of Aus...</td>\n",
              "      <td>False</td>\n",
              "      <td>[0, 140]</td>\n",
              "      <td>{'hashtags': [], 'symbols': [], 'user_mentions...</td>\n",
              "      <td>NaN</td>\n",
              "      <td>&lt;a href=\"https://mobile.twitter.com\" rel=\"nofo...</td>\n",
              "      <td>NaN</td>\n",
              "      <td>None</td>\n",
              "      <td>NaN</td>\n",
              "      <td>None</td>\n",
              "      <td>None</td>\n",
              "      <td>{'id': 1014500145776349184, 'id_str': '1014500...</td>\n",
              "      <td>None</td>\n",
              "      <td>None</td>\n",
              "      <td>None</td>\n",
              "      <td>None</td>\n",
              "      <td>False</td>\n",
              "      <td>224</td>\n",
              "      <td>0</td>\n",
              "      <td>False</td>\n",
              "      <td>False</td>\n",
              "      <td>NaN</td>\n",
              "      <td>en</td>\n",
              "      <td>{'created_at': 'Wed Nov 18 06:23:43 +0000 2020...</td>\n",
              "      <td>NaN</td>\n",
              "      <td>NaN</td>\n",
              "      <td>NaN</td>\n",
              "      <td>NaN</td>\n",
              "      <td>NaN</td>\n",
              "    </tr>\n",
              "    <tr>\n",
              "      <th>3</th>\n",
              "      <td>Wed Nov 18 10:19:01 +0000 2020</td>\n",
              "      <td>1329006188248379392</td>\n",
              "      <td>1329006188248379392</td>\n",
              "      <td>RT @zerohedge: UK MP Suggests People Shouldn't...</td>\n",
              "      <td>False</td>\n",
              "      <td>[0, 111]</td>\n",
              "      <td>{'hashtags': [], 'symbols': [], 'user_mentions...</td>\n",
              "      <td>NaN</td>\n",
              "      <td>&lt;a href=\"http://twitter.com/download/iphone\" r...</td>\n",
              "      <td>NaN</td>\n",
              "      <td>None</td>\n",
              "      <td>NaN</td>\n",
              "      <td>None</td>\n",
              "      <td>None</td>\n",
              "      <td>{'id': 1092357811604983809, 'id_str': '1092357...</td>\n",
              "      <td>None</td>\n",
              "      <td>None</td>\n",
              "      <td>None</td>\n",
              "      <td>None</td>\n",
              "      <td>False</td>\n",
              "      <td>94</td>\n",
              "      <td>0</td>\n",
              "      <td>False</td>\n",
              "      <td>False</td>\n",
              "      <td>False</td>\n",
              "      <td>en</td>\n",
              "      <td>{'created_at': 'Wed Nov 18 07:00:01 +0000 2020...</td>\n",
              "      <td>NaN</td>\n",
              "      <td>NaN</td>\n",
              "      <td>NaN</td>\n",
              "      <td>NaN</td>\n",
              "      <td>NaN</td>\n",
              "    </tr>\n",
              "    <tr>\n",
              "      <th>4</th>\n",
              "      <td>Wed Nov 18 10:19:01 +0000 2020</td>\n",
              "      <td>1329006188697169921</td>\n",
              "      <td>1329006188697169921</td>\n",
              "      <td>RT @RandPaul: Why does the left accept immune ...</td>\n",
              "      <td>False</td>\n",
              "      <td>[0, 140]</td>\n",
              "      <td>{'hashtags': [], 'symbols': [], 'user_mentions...</td>\n",
              "      <td>NaN</td>\n",
              "      <td>&lt;a href=\"http://twitter.com/download/android\" ...</td>\n",
              "      <td>NaN</td>\n",
              "      <td>None</td>\n",
              "      <td>NaN</td>\n",
              "      <td>None</td>\n",
              "      <td>None</td>\n",
              "      <td>{'id': 385944134, 'id_str': '385944134', 'name...</td>\n",
              "      <td>None</td>\n",
              "      <td>None</td>\n",
              "      <td>None</td>\n",
              "      <td>None</td>\n",
              "      <td>False</td>\n",
              "      <td>2143</td>\n",
              "      <td>0</td>\n",
              "      <td>False</td>\n",
              "      <td>False</td>\n",
              "      <td>NaN</td>\n",
              "      <td>en</td>\n",
              "      <td>{'created_at': 'Tue Nov 17 19:56:12 +0000 2020...</td>\n",
              "      <td>NaN</td>\n",
              "      <td>NaN</td>\n",
              "      <td>NaN</td>\n",
              "      <td>NaN</td>\n",
              "      <td>NaN</td>\n",
              "    </tr>\n",
              "  </tbody>\n",
              "</table>\n",
              "</div>"
            ],
            "text/plain": [
              "                       created_at  ...  withheld_in_countries\n",
              "0  Wed Nov 18 10:19:01 +0000 2020  ...                    NaN\n",
              "1  Wed Nov 18 10:19:01 +0000 2020  ...                    NaN\n",
              "2  Wed Nov 18 10:19:01 +0000 2020  ...                    NaN\n",
              "3  Wed Nov 18 10:19:01 +0000 2020  ...                    NaN\n",
              "4  Wed Nov 18 10:19:01 +0000 2020  ...                    NaN\n",
              "\n",
              "[5 rows x 32 columns]"
            ]
          },
          "metadata": {
            "tags": []
          },
          "execution_count": 8
        }
      ]
    },
    {
      "cell_type": "code",
      "metadata": {
        "colab": {
          "base_uri": "https://localhost:8080/"
        },
        "id": "Bufbpd7RRmLX",
        "outputId": "458b0242-7903-48e2-d803-01333de7d9e1"
      },
      "source": [
        "df_tweets.info()"
      ],
      "execution_count": 9,
      "outputs": [
        {
          "output_type": "stream",
          "text": [
            "<class 'pandas.core.frame.DataFrame'>\n",
            "RangeIndex: 55859 entries, 0 to 55858\n",
            "Data columns (total 32 columns):\n",
            " #   Column                     Non-Null Count  Dtype  \n",
            "---  ------                     --------------  -----  \n",
            " 0   created_at                 55859 non-null  object \n",
            " 1   id                         55859 non-null  int64  \n",
            " 2   id_str                     55859 non-null  object \n",
            " 3   full_text                  55859 non-null  object \n",
            " 4   truncated                  55859 non-null  bool   \n",
            " 5   display_text_range         55859 non-null  object \n",
            " 6   entities                   55859 non-null  object \n",
            " 7   extended_entities          7642 non-null   object \n",
            " 8   source                     55859 non-null  object \n",
            " 9   in_reply_to_status_id      4070 non-null   float64\n",
            " 10  in_reply_to_status_id_str  4070 non-null   object \n",
            " 11  in_reply_to_user_id        4477 non-null   float64\n",
            " 12  in_reply_to_user_id_str    4477 non-null   object \n",
            " 13  in_reply_to_screen_name    4477 non-null   object \n",
            " 14  user                       55859 non-null  object \n",
            " 15  geo                        29 non-null     object \n",
            " 16  coordinates                29 non-null     object \n",
            " 17  place                      612 non-null    object \n",
            " 18  contributors               0 non-null      object \n",
            " 19  is_quote_status            55859 non-null  bool   \n",
            " 20  retweet_count              55859 non-null  int64  \n",
            " 21  favorite_count             55859 non-null  int64  \n",
            " 22  favorited                  55859 non-null  bool   \n",
            " 23  retweeted                  55859 non-null  bool   \n",
            " 24  possibly_sensitive         23420 non-null  object \n",
            " 25  lang                       55859 non-null  object \n",
            " 26  retweeted_status           34279 non-null  object \n",
            " 27  quoted_status_id           13604 non-null  float64\n",
            " 28  quoted_status_id_str       13604 non-null  object \n",
            " 29  quoted_status_permalink    13604 non-null  object \n",
            " 30  quoted_status              5879 non-null   object \n",
            " 31  withheld_in_countries      5 non-null      object \n",
            "dtypes: bool(4), float64(3), int64(3), object(22)\n",
            "memory usage: 12.1+ MB\n"
          ],
          "name": "stdout"
        }
      ]
    },
    {
      "cell_type": "markdown",
      "metadata": {
        "id": "pUuqAl3JK1vg"
      },
      "source": [
        "## 1 - Retweet Graph\n",
        "From the downloaded tweets, generate the retweet graph. The directed final graph G = (V,E) is constituted by all the users retweeting at least once, and a generic edge (u,v) means that users u retweeted at least once a tweet posted by the user v. In this part, we’ll test some contact recommendation algorithms to predict next retweets.\n"
      ]
    },
    {
      "cell_type": "code",
      "metadata": {
        "id": "tXOfPjoOMwVP"
      },
      "source": [
        "def get_user_and_retweeted_user(tweet_entry):\n",
        "  if str(tweet_entry['retweeted_status']) != 'nan':\n",
        "\n",
        "    #Take user and retweeted user\n",
        "    user = tweet_entry['user']\n",
        "    rt_user = tweet_entry['retweeted_status']\n",
        "\n",
        "    #Crate two lists: one that specifies the user of the tweet(from_user) and the other the user that retweeted (to_user)\n",
        "    from_user = user['id_str']\n",
        "    to_user = rt_user['user']['id_str']\n",
        "    followers = rt_user['user']['followers_count']\n",
        "    return from_user, to_user, followers\n",
        "    \n",
        "  else:\n",
        "    return None,None,None"
      ],
      "execution_count": 10,
      "outputs": []
    },
    {
      "cell_type": "markdown",
      "metadata": {
        "id": "DU4y0An5NCjA"
      },
      "source": [
        "Add to the original dataframe the new created columns"
      ]
    },
    {
      "cell_type": "code",
      "metadata": {
        "id": "EmCCnyDPM7hG"
      },
      "source": [
        "df_tweets['from_user'], df_tweets['to_user'], df_tweets['followers'] = zip(*df_tweets.apply(lambda x:get_user_and_retweeted_user(x), axis=1))"
      ],
      "execution_count": 11,
      "outputs": []
    },
    {
      "cell_type": "markdown",
      "metadata": {
        "id": "1ShDuVcaNGIy"
      },
      "source": [
        "Create a dictionary just taking the from and to users"
      ]
    },
    {
      "cell_type": "code",
      "metadata": {
        "colab": {
          "base_uri": "https://localhost:8080/"
        },
        "id": "u1My-0ApNAZu",
        "outputId": "9b1c36aa-8ba3-474e-d8e0-a59c2bdba35c"
      },
      "source": [
        "retweets_df = df_tweets[['to_user', 'from_user']]\n",
        "edges = retweets_df.groupby('from_user')['to_user'].apply(list).to_dict()\n",
        "first5edges = {k: edges[k] for k in list(edges)[:5]}\n",
        "first5edges"
      ],
      "execution_count": 12,
      "outputs": [
        {
          "output_type": "execute_result",
          "data": {
            "text/plain": [
              "{'1000100240777793543': ['18160106'],\n",
              " '1000131232234115072': ['125346858'],\n",
              " '1000165790803410946': ['195271137'],\n",
              " '1000172296097685504': ['956476343872454656'],\n",
              " '1000193665975779328': ['195271137']}"
            ]
          },
          "metadata": {
            "tags": []
          },
          "execution_count": 12
        }
      ]
    },
    {
      "cell_type": "markdown",
      "metadata": {
        "id": "pWO9z4zqNRiQ"
      },
      "source": [
        "Use the previous mappings to create the edges of the graph"
      ]
    },
    {
      "cell_type": "code",
      "metadata": {
        "id": "QHRft_oENNkz"
      },
      "source": [
        "def network_mapping(network):\n",
        "  mapping = {}\n",
        "  entries = 0\n",
        "  for key, value in network.items():\n",
        "    if key not in mapping:\n",
        "      mapping[key] = entries\n",
        "      entries+=1\n",
        "    for v in value:\n",
        "      if v not in mapping:\n",
        "        mapping[v] = entries\n",
        "        entries+=1\n",
        "\n",
        "  return mapping, entries"
      ],
      "execution_count": 13,
      "outputs": []
    },
    {
      "cell_type": "code",
      "metadata": {
        "id": "zGEt0lyjNU0H"
      },
      "source": [
        "map, nodes = network_mapping(edges)"
      ],
      "execution_count": 14,
      "outputs": []
    },
    {
      "cell_type": "code",
      "metadata": {
        "colab": {
          "base_uri": "https://localhost:8080/"
        },
        "id": "2PrX5JhXNVZe",
        "outputId": "978cc244-434b-4fb8-d93d-bebc5b63b642"
      },
      "source": [
        "g = Graph(directed=False)\n",
        "g.add_vertices(nodes)\n",
        "g.add_edges([map[u], map[v]] for u in edges.keys() for v in edges[u])\n",
        "g.is_directed()"
      ],
      "execution_count": 15,
      "outputs": [
        {
          "output_type": "execute_result",
          "data": {
            "text/plain": [
              "False"
            ]
          },
          "metadata": {
            "tags": []
          },
          "execution_count": 15
        }
      ]
    },
    {
      "cell_type": "markdown",
      "metadata": {
        "id": "_6eoidlLK10A"
      },
      "source": [
        "Plot the graph through a log-log plot, where on x-axis we find a degree value d and on the y the number of nodes having such degree"
      ]
    },
    {
      "cell_type": "code",
      "metadata": {
        "id": "ku7QKUN5NZ6r"
      },
      "source": [
        "def plot_loglog(degree_lst):\n",
        "    \"\"\"\n",
        "    starting from a list of degrees, it plots the log-log\n",
        "    \"\"\"\n",
        "    \n",
        "    fig = plt.figure()\n",
        "    ax = fig.add_subplot(111)\n",
        "    \n",
        "    # x is the degree, y the count\n",
        "    degrees_distribution = Counter(degree_lst)\n",
        "    \n",
        "    # distinct degree \n",
        "    degrees_ = []\n",
        "    # number of nodes having same degree\n",
        "    count_ = []\n",
        "    for d in degrees_distribution:\n",
        "        \n",
        "        # append both info, key and values\n",
        "        degrees_.append(d)\n",
        "        count_.append(degrees_distribution[d])\n",
        "        \n",
        "    # logarithmic scale of both axis\n",
        "    x = np.log10(np.array(degrees_)+1)\n",
        "\n",
        "    y = np.log10(np.array(count_)+1)\n",
        "    \n",
        "    # plot\n",
        "    ax.scatter(x=x,y=y, alpha=0.5)\n",
        "    \n",
        "    plt.xlabel(\"Degree\")\n",
        "    plt.ylabel(\"Freq\")\n",
        "    plt.grid()\n",
        "    plt.show()"
      ],
      "execution_count": 16,
      "outputs": []
    },
    {
      "cell_type": "code",
      "metadata": {
        "colab": {
          "base_uri": "https://localhost:8080/",
          "height": 278
        },
        "id": "Cr3VbmRwNdgW",
        "outputId": "9a36b9d2-a99a-4977-8b0a-3bb0fdb097f4"
      },
      "source": [
        "plot_loglog(g.degree())"
      ],
      "execution_count": 17,
      "outputs": [
        {
          "output_type": "display_data",
          "data": {
            "image/png": "[encoded data removed]",
            "text/plain": [
              "<Figure size 432x288 with 1 Axes>"
            ]
          },
          "metadata": {
            "tags": [],
            "needs_background": "light"
          }
        }
      ]
    },
    {
      "cell_type": "code",
      "metadata": {
        "colab": {
          "base_uri": "https://localhost:8080/"
        },
        "id": "qO_PiUrBNe3r",
        "outputId": "4371bac6-d25d-4c23-9b49-39f21739dfbd"
      },
      "source": [
        "g.pagerank(0)"
      ],
      "execution_count": 18,
      "outputs": [
        {
          "output_type": "execute_result",
          "data": {
            "text/plain": [
              "2.0278697781060737e-05"
            ]
          },
          "metadata": {
            "tags": []
          },
          "execution_count": 18
        }
      ]
    },
    {
      "cell_type": "markdown",
      "metadata": {
        "id": "0yYELW89K14N"
      },
      "source": [
        "## 2 - Split edges in train/test\n",
        "Where the test is given by the 20% of the edges of the graph. These edges are sampling by random from the whole edgelist."
      ]
    },
    {
      "cell_type": "markdown",
      "metadata": {
        "id": "hnEcpodlToZX"
      },
      "source": [
        "To create the test we need to sample a fraction p = 0.2 of the exististing edges in the graph. For do it we look at the edgelist and sample *p x N* nodes (being *N* the lenght of the graph) ."
      ]
    },
    {
      "cell_type": "code",
      "metadata": {
        "id": "EWwkRm8bTPmO"
      },
      "source": [
        "# fraction of edges to select as test-set\n",
        "p = 0.2\n",
        "\n",
        "# graphsize\n",
        "N = len(g.es)\n",
        "\n",
        "# idxs of all the edges\n",
        "all_idxs = range(N)\n",
        "\n",
        "# sample idxs of edges through the function \"choice\"\n",
        "test_idxs = np.random.choice(all_idxs, size=int(p*N), replace=False)"
      ],
      "execution_count": 64,
      "outputs": []
    },
    {
      "cell_type": "markdown",
      "metadata": {
        "id": "s_25jvaPUKFP"
      },
      "source": [
        "We know need to select the edges scrolling in the edgelist"
      ]
    },
    {
      "cell_type": "code",
      "metadata": {
        "id": "FUUeAgyxTSZY"
      },
      "source": [
        "ground_truth = set()\n",
        "trainset = set()\n",
        "for idx, one_edge in enumerate(g.es):\n",
        "    \n",
        "    # take n1 and n2 idx from one_edge, that is an igraph edge *object*\n",
        "    n1 = one_edge.source\n",
        "    n2 = one_edge.target\n",
        "\n",
        "    if idx in test_idxs:\n",
        "        ground_truth.add((n1, n2, 1))\n",
        "    else:\n",
        "        trainset.add((n1, n2, 1))"
      ],
      "execution_count": 20,
      "outputs": []
    },
    {
      "cell_type": "code",
      "metadata": {
        "id": "Wi_xJUlnZnBd"
      },
      "source": [
        "#Delete the test_idxs from the main graph, in order to continue the study\n",
        "g.delete_edges(test_idxs)"
      ],
      "execution_count": 21,
      "outputs": []
    },
    {
      "cell_type": "code",
      "metadata": {
        "colab": {
          "base_uri": "https://localhost:8080/"
        },
        "id": "hBxAvUUYZZuf",
        "outputId": "195d8383-740e-4091-8962-ea4af3812cb4"
      },
      "source": [
        "type(g)"
      ],
      "execution_count": 22,
      "outputs": [
        {
          "output_type": "execute_result",
          "data": {
            "text/plain": [
              "igraph.Graph"
            ]
          },
          "metadata": {
            "tags": []
          },
          "execution_count": 22
        }
      ]
    },
    {
      "cell_type": "markdown",
      "metadata": {
        "id": "4ogLJ14jS6mr"
      },
      "source": [
        "The prediction is supposed to be done only using the edges information and run over only the edges at distance 2 (friends of friends) of the nodes of the test set. So the list of potential recommendations are given only by all the friends-of-friends of the source and destination nodes included in the test-set."
      ]
    },
    {
      "cell_type": "code",
      "metadata": {
        "id": "0gdD7s89OCzv"
      },
      "source": [
        "def find_nodes_at_distance_2(graph):\n",
        "    \"\"\"\n",
        "    starting from a graph this function returns all the nodes at distance 2\n",
        "    \"\"\"\n",
        "    \n",
        "\n",
        "    all_potential_recommendations = set()\n",
        "    \n",
        "    for n1 in graph.vs:\n",
        "        \n",
        "        # all the nodes at distance 1\n",
        "        nodes_at_most_distant_1 = set(graph.neighborhood(n1, order=1))\n",
        "\n",
        "        # all the nodes at distance 1 and distance 2\n",
        "\n",
        "        nodes_at_most_distant_2 = set(graph.neighborhood(n1, order=2))\n",
        "\n",
        "        # only the nodes at distance 2\n",
        "        only_nodes_at_distance_2 = nodes_at_most_distant_2 - nodes_at_most_distant_1\n",
        "        \n",
        "        \n",
        "        # check if empty set\n",
        "        if len(only_nodes_at_distance_2) > 0:\n",
        "            \n",
        "\n",
        "            for n2 in only_nodes_at_distance_2:\n",
        "                \n",
        "                # since n1 is an igraph vertex object, we need to extract the id\n",
        "                n1_index = n1.index\n",
        "                \n",
        "                all_potential_recommendations.add((n1_index, n2))\n",
        "            \n",
        "    return all_potential_recommendations"
      ],
      "execution_count": 23,
      "outputs": []
    },
    {
      "cell_type": "code",
      "metadata": {
        "id": "fZK6aLz8ODuw"
      },
      "source": [
        "all_potential_recommendations = find_nodes_at_distance_2(g)"
      ],
      "execution_count": 24,
      "outputs": []
    },
    {
      "cell_type": "code",
      "metadata": {
        "colab": {
          "base_uri": "https://localhost:8080/"
        },
        "id": "AcEmvphyOFGH",
        "outputId": "6bf28bc7-84e1-45aa-c81f-390db4a3f5e5"
      },
      "source": [
        "len(all_potential_recommendations)"
      ],
      "execution_count": 25,
      "outputs": [
        {
          "output_type": "execute_result",
          "data": {
            "text/plain": [
              "4498824"
            ]
          },
          "metadata": {
            "tags": []
          },
          "execution_count": 25
        }
      ]
    },
    {
      "cell_type": "code",
      "metadata": {
        "colab": {
          "base_uri": "https://localhost:8080/"
        },
        "id": "lIr2k-qsxtZg",
        "outputId": "37151389-4623-41ea-a14e-58dffe29c3f7"
      },
      "source": [
        "print(all_potential_recommendations.pop())"
      ],
      "execution_count": 26,
      "outputs": [
        {
          "output_type": "stream",
          "text": [
            "(20154, 6136)\n"
          ],
          "name": "stdout"
        }
      ]
    },
    {
      "cell_type": "code",
      "metadata": {
        "id": "OJdeUbyvTVDh"
      },
      "source": [
        "for rec in all_potential_recommendations:\n",
        "    \n",
        "    # add to ground truth also the potential nodes\n",
        "    n1 = rec[0]\n",
        "    n2 = rec[1]\n",
        "    \n",
        "    ground_truth.add((n1,n2,0))"
      ],
      "execution_count": 27,
      "outputs": []
    },
    {
      "cell_type": "markdown",
      "metadata": {
        "id": "OsSPuY78K18m"
      },
      "source": [
        "## 3 - Network-based Predictions\n",
        "Train 4 different algorithms to predict the edges in the test. The training phase is instead applied over all 80% remaining edges (training-set). "
      ]
    },
    {
      "cell_type": "markdown",
      "metadata": {
        "id": "2A49CCVrK1_6"
      },
      "source": [
        "### 3.1 - Adamic-Adar\n",
        "This heuristic, topology based metric, can be computed with the following formula: For a tuple of nodes (x,y) it corresponds to the sum of the reciprocal of the number of neighbors (in log-scale) for a set Z, where Z corresponds to the nodes being neighbors of both x and y.\n",
        "\n",
        "![Captura de pantalla 2020-12-17 a las 16.24.15.png](data:image/png;base64,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)"
      ]
    },
    {
      "cell_type": "code",
      "metadata": {
        "id": "p32JOu13OdEM"
      },
      "source": [
        "def compute_ADA(u,v, graph):\n",
        "    \"\"\"\n",
        "    compute adamic-adar from scratch\n",
        "    \"\"\"\n",
        "    \n",
        "    # set of neighbors of u\n",
        "    outlinks_from_u = set(graph.neighbors(u))\n",
        "\n",
        "    # set of neighbors of v\n",
        "    inlinks_to_v = set(graph.neighbors(v))\n",
        "\n",
        "    \n",
        "    # set Z of neighbors of both\n",
        "    bridges =outlinks_from_u.intersection(inlinks_to_v)\n",
        "\n",
        "    # degree of nodes in set Z\n",
        "    deg_ = graph.degree(list(bridges))\n",
        "    #deg_ =[graph.degree(n) for n in bridges]\n",
        "    \n",
        "    # computing the reciprocal in log-scale\n",
        "    out = [1./np.log2(dd+1) for dd in deg_]\n",
        "\n",
        "    return sum(out)"
      ],
      "execution_count": 28,
      "outputs": []
    },
    {
      "cell_type": "code",
      "metadata": {
        "id": "AqgTtZ7BOeMS"
      },
      "source": [
        "ADA_values = {}\n",
        "\n",
        "for u, v in all_potential_recommendations:\n",
        "  ADA_values[u] = compute_ADA(u,v, g)"
      ],
      "execution_count": 247,
      "outputs": []
    },
    {
      "cell_type": "code",
      "metadata": {
        "colab": {
          "base_uri": "https://localhost:8080/"
        },
        "id": "J-sRn86pvktv",
        "outputId": "54c57721-6a2e-4b21-f4a9-a1b605edb117"
      },
      "source": [
        "from statistics import mean\n",
        "average_ADA = mean(ADA_values[k] for k in ADA_values)\n",
        "\n",
        "print('The average from ADA values obtained among the potential recommendations in graph is:\\n', average_ADA )"
      ],
      "execution_count": 248,
      "outputs": [
        {
          "output_type": "stream",
          "text": [
            "The average from ADA values obtained among the potential recommendations in graph is:\n",
            " 0.2800712353900169\n"
          ],
          "name": "stdout"
        }
      ]
    },
    {
      "cell_type": "markdown",
      "metadata": {
        "id": "xh2X2fUGebbY"
      },
      "source": [
        "Now we take the top 10 nodes with higher similarity inside the ADA output and see if they are contained in the test set."
      ]
    },
    {
      "cell_type": "code",
      "metadata": {
        "colab": {
          "base_uri": "https://localhost:8080/"
        },
        "id": "m2taLOtSLYkS",
        "outputId": "725cf3c3-fdbb-4ec8-f9bd-d974fc6c073f"
      },
      "source": [
        "ADA_recommended_values = sorted(ADA_values, key=ADA_values.get)[0:10]\n",
        "print('The 10 edges with higher ADA value are the following:\\n', ADA_recommended_values)"
      ],
      "execution_count": 175,
      "outputs": [
        {
          "output_type": "stream",
          "text": [
            "The 10 edges with higher ADA value are the following:\n",
            " [(10956, 14432), (28446, 1155), (23948, 18936), (5398, 25363), (25689, 9261), (5831, 746), (6869, 6316), (12258, 28699), (25245, 19561), (26354, 7697)]\n"
          ],
          "name": "stdout"
        }
      ]
    },
    {
      "cell_type": "markdown",
      "metadata": {
        "id": "ZilcXscbK2DU"
      },
      "source": [
        "### 3.2 - ALS\n",
        "Classical matrix factorization algorithm used for implicit feedback."
      ]
    },
    {
      "cell_type": "markdown",
      "metadata": {
        "id": "wMcsozg1H9ly"
      },
      "source": [
        "As the potential recommendations were too much, we took the advice of reducing the number of samples. In order to do it we decomposed the graph and took one of the samples to work with it."
      ]
    },
    {
      "cell_type": "code",
      "metadata": {
        "id": "3x09k_5aZIsK"
      },
      "source": [
        "decomposed_g = Graph()\n",
        "decomposed_g = g.decompose(mode=STRONG, maxcompno=1048576, minelements=32)"
      ],
      "execution_count": 31,
      "outputs": []
    },
    {
      "cell_type": "code",
      "metadata": {
        "colab": {
          "base_uri": "https://localhost:8080/"
        },
        "id": "WYNlgb6yR9Au",
        "outputId": "2b153371-cd0a-4006-8c50-0948bad0fb13"
      },
      "source": [
        "decomposed_g"
      ],
      "execution_count": 32,
      "outputs": [
        {
          "output_type": "execute_result",
          "data": {
            "text/plain": [
              "[<igraph.Graph at 0x7f309c43a8b8>,\n",
              " <igraph.Graph at 0x7f309c43a9a8>,\n",
              " <igraph.Graph at 0x7f309c43aa98>,\n",
              " <igraph.Graph at 0x7f309c43ab88>,\n",
              " <igraph.Graph at 0x7f309c43ac78>,\n",
              " <igraph.Graph at 0x7f309c43ad68>,\n",
              " <igraph.Graph at 0x7f309c43ae58>,\n",
              " <igraph.Graph at 0x7f305e6c8048>,\n",
              " <igraph.Graph at 0x7f305e6c8138>,\n",
              " <igraph.Graph at 0x7f305e6c8228>,\n",
              " <igraph.Graph at 0x7f305e6c8318>]"
            ]
          },
          "metadata": {
            "tags": []
          },
          "execution_count": 32
        }
      ]
    },
    {
      "cell_type": "markdown",
      "metadata": {
        "id": "08ShF0QLzFBo"
      },
      "source": [
        "As shown above, it was decomposed in 11 graphs, so we are taking a eleventh part of the initial graph."
      ]
    },
    {
      "cell_type": "code",
      "metadata": {
        "id": "kDKVEm7ROlvC"
      },
      "source": [
        "# first we get the adjacency matrix data\n",
        "M = decomposed_g[0].get_adjacency().data\n",
        "M = csr_matrix(M)"
      ],
      "execution_count": 33,
      "outputs": []
    },
    {
      "cell_type": "code",
      "metadata": {
        "id": "qkoMqmJLOmOy",
        "colab": {
          "base_uri": "https://localhost:8080/",
          "height": 104,
          "referenced_widgets": [
            "9d2cfc1a19274d459006f3afe2b758be",
            "8668cd3468654759bb02ab7e3c673c33",
            "45911f27f01a4853ba3e45369a384328",
            "da0afb32e2cc477188d9cc015fd8ee73",
            "9aea446e4f284fcc84a1814f5c4555b9",
            "86e56a0986354cf7af0168ff94ebd4f6",
            "18319bc12f2947e3b678a7e3422974ed",
            "ea574b35506e4f72a12dd893d98d4451"
          ]
        },
        "outputId": "ed574fd4-c86b-4696-96fc-6830df51bb25"
      },
      "source": [
        "# here we run the model ALS\n",
        "model = implicit.als.AlternatingLeastSquares(factors=32, calculate_training_loss=True,  iterations=10)\n",
        "\n",
        "# train the model on a sparse matrix of item/user/confidence weights\n",
        "model.fit(M)"
      ],
      "execution_count": 34,
      "outputs": [
        {
          "output_type": "stream",
          "text": [
            "WARNING:root:OpenBLAS detected. Its highly recommend to set the environment variable 'export OPENBLAS_NUM_THREADS=1' to disable its internal multithreading\n"
          ],
          "name": "stderr"
        },
        {
          "output_type": "display_data",
          "data": {
            "application/vnd.jupyter.widget-view+json": {
              "model_id": "9d2cfc1a19274d459006f3afe2b758be",
              "version_minor": 0,
              "version_major": 2
            },
            "text/plain": [
              "HBox(children=(FloatProgress(value=0.0, max=10.0), HTML(value='')))"
            ]
          },
          "metadata": {
            "tags": []
          }
        },
        {
          "output_type": "stream",
          "text": [
            "\n"
          ],
          "name": "stdout"
        }
      ]
    },
    {
      "cell_type": "code",
      "metadata": {
        "id": "apEK9rKDO1Vg",
        "colab": {
          "base_uri": "https://localhost:8080/"
        },
        "outputId": "78e3faf4-48fb-489b-ea78-89ef1df6777a"
      },
      "source": [
        "model.item_factors.shape"
      ],
      "execution_count": 35,
      "outputs": [
        {
          "output_type": "execute_result",
          "data": {
            "text/plain": [
              "(13691, 32)"
            ]
          },
          "metadata": {
            "tags": []
          },
          "execution_count": 35
        }
      ]
    },
    {
      "cell_type": "markdown",
      "metadata": {
        "id": "Ldl5-lASK2G0"
      },
      "source": [
        "**Test ALS**"
      ]
    },
    {
      "cell_type": "markdown",
      "metadata": {
        "id": "uTUU2ikYygDt"
      },
      "source": [
        "As we sampled the graph, now we need to create again test and train set from this sample."
      ]
    },
    {
      "cell_type": "code",
      "metadata": {
        "id": "Wkp1tyDpsAHc"
      },
      "source": [
        "# fraction of edges to select as test-set\n",
        "p_ALS = 0.2\n",
        "\n",
        "# graphsize\n",
        "N_ALS = len(decomposed_g[0].es)\n",
        "\n",
        "# idxs of all the edges\n",
        "all_idxs_ALS = range(N)\n",
        "\n",
        "# sample idxs of edges through the function \"choice\"\n",
        "test_idxs_ALS = np.random.choice(all_idxs_ALS, size=int(p_ALS*N_ALS), replace=False)"
      ],
      "execution_count": 36,
      "outputs": []
    },
    {
      "cell_type": "code",
      "metadata": {
        "id": "bKePyNVyrvAu"
      },
      "source": [
        "ground_truth_ALS = set()\n",
        "trainset_ALS = set()\n",
        "for idx, one_edge in enumerate(decomposed_g[0].es):\n",
        "    \n",
        "    # take n1 and n2 idx from one_edge, that is an igraph edge *object*\n",
        "    n1 = one_edge.source\n",
        "    n2 = one_edge.target\n",
        "\n",
        "    if idx in test_idxs_ALS:\n",
        "        \n",
        "        ground_truth_ALS.add((n1, n2, 1))\n",
        "    else:\n",
        "        trainset_ALS.add((n1, n2, 1))"
      ],
      "execution_count": 38,
      "outputs": []
    },
    {
      "cell_type": "markdown",
      "metadata": {
        "id": "_Y2-K0hKypNh"
      },
      "source": [
        "Then we implement the ALS prediction."
      ]
    },
    {
      "cell_type": "code",
      "metadata": {
        "id": "7vvrdNfYO7DS"
      },
      "source": [
        "def predict_ALS(testset, model):\n",
        "    \"\"\"\n",
        "    predict for a list of observations the score for adding/removing a link\n",
        "    \"\"\"\n",
        "\n",
        "    # initialize the empty list\n",
        "    all_predictions = []\n",
        "\n",
        "    # scroll the obs\n",
        "    for n1,n2, w in testset:\n",
        "        \n",
        "        # take here the low-dimensional vectors returned by the matrix factorization\n",
        "        \n",
        "        array_n1 = model.user_factors[n1]\n",
        "        array_n2 = model.item_factors[n2]\n",
        "\n",
        "        # multiplying these vectors we generate an approximation for the edge score\n",
        "        one_p = np.dot(array_n1, array_n2)\n",
        "\n",
        "        all_predictions.append(one_p)\n",
        "        \n",
        "    return all_predictions"
      ],
      "execution_count": 43,
      "outputs": []
    },
    {
      "cell_type": "code",
      "metadata": {
        "id": "LF_HjWERO8kX"
      },
      "source": [
        "# generate the predictions\n",
        "df_test_ALS = pd.DataFrame(list(ground_truth_ALS), columns=[\"n1\",\"n2\", \"edge\"])\n",
        "all_predictions = predict_ALS(df_test_ALS.values, model)\n",
        "\n",
        "# add predictions to df\n",
        "df_test_ALS[\"rating\"] = all_predictions\n",
        "\n",
        "# convert predictions to binary values: 0 don't add the edge, 1 add it.\n",
        "df_test_ALS[\"rating\"] = df_test_ALS[\"rating\"].apply(lambda x: round(x))"
      ],
      "execution_count": 46,
      "outputs": []
    },
    {
      "cell_type": "code",
      "metadata": {
        "id": "17jDrvPMO_Gl",
        "colab": {
          "base_uri": "https://localhost:8080/"
        },
        "outputId": "e0c8a230-1c7b-4e98-83aa-b38775a5c294"
      },
      "source": [
        "# number of observations matched by the prediction\n",
        "right_predictions = len(df_test_ALS[df_test_ALS.edge == df_test_ALS.rating])\n",
        "\n",
        "# accuracy\n",
        "right_predictions/len(df_test_ALS)"
      ],
      "execution_count": 48,
      "outputs": [
        {
          "output_type": "execute_result",
          "data": {
            "text/plain": [
              "0.3875338753387534"
            ]
          },
          "metadata": {
            "tags": []
          },
          "execution_count": 48
        }
      ]
    },
    {
      "cell_type": "markdown",
      "metadata": {
        "id": "f41Mr9cRK2KJ"
      },
      "source": [
        "### 3.3 - PageRank"
      ]
    },
    {
      "cell_type": "code",
      "metadata": {
        "id": "nneV9tLmPKOP"
      },
      "source": [
        "execute = True\n",
        "if execute:\n",
        "  pagerank = {}\n",
        "\n",
        "  for v in g.vs:\n",
        "    pagerank[v] = g.pagerank(vertices = v)"
      ],
      "execution_count": 61,
      "outputs": []
    },
    {
      "cell_type": "code",
      "metadata": {
        "colab": {
          "base_uri": "https://localhost:8080/"
        },
        "id": "UjEmtTba49eM",
        "outputId": "1d8bee57-a6a6-441f-cc06-090d50816feb"
      },
      "source": [
        "np.max(pagerank)[0:10]"
      ],
      "execution_count": 62,
      "outputs": [
        {
          "output_type": "execute_result",
          "data": {
            "text/plain": [
              "2.9232927970065482e-05"
            ]
          },
          "metadata": {
            "tags": []
          },
          "execution_count": 62
        }
      ]
    },
    {
      "cell_type": "markdown",
      "metadata": {
        "id": "i5if5EM33HGf"
      },
      "source": [
        "### 3.4 - Jaccard\n",
        "As we were told to implement an algorithm seen during lessons we implemented the Jaccard coefficient."
      ]
    },
    {
      "cell_type": "code",
      "metadata": {
        "id": "_Vao_PfL2U9s"
      },
      "source": [
        "def compute_Jaccard(u,v, graph):\n",
        "    \"\"\"\n",
        "    compute jaccard similarity\n",
        "    \"\"\"\n",
        "    \n",
        "\n",
        "    # set of neighbors of u\n",
        "    outlinks_from_u = set(graph.neighbors(u))\n",
        "\n",
        "    # set of neighbors of v\n",
        "    inlinks_to_v =set(graph.neighbors(v))\n",
        "\n",
        "    # intesection of the two sets\n",
        "    num =outlinks_from_u.intersection(inlinks_to_v)\n",
        "    \n",
        "    # union of the two sets\n",
        "    den = outlinks_from_u.union(inlinks_to_v)\n",
        "    \n",
        "    # final division\n",
        "    out = len(num)/len(den)\n",
        "    \n",
        "    return out"
      ],
      "execution_count": 65,
      "outputs": []
    },
    {
      "cell_type": "code",
      "metadata": {
        "id": "fkp5anAb2VHg"
      },
      "source": [
        "values_jaccard = {}\n",
        "\n",
        "for u, v in all_potential_recommendations:\n",
        "  values_jaccard[u] = compute_Jaccard(u,v, g)"
      ],
      "execution_count": 71,
      "outputs": []
    },
    {
      "cell_type": "markdown",
      "metadata": {
        "id": "pqzxN6uDPAcn"
      },
      "source": [
        "## 4 - Top-10 list of Recommendations\n",
        "For nodes in the test-set."
      ]
    },
    {
      "cell_type": "code",
      "metadata": {
        "id": "WKbtP0uyPUT9"
      },
      "source": [
        "def print_top_k(graph, topk, opt, vid=None):\n",
        "    \"\"\"\n",
        "    we print the top-k nodes with highest degree, pagerank and personalized-pagerank.\n",
        "    \n",
        "    Based on the selected option, a different top-k is generated\n",
        "    \"\"\"\n",
        "    if opt == \"degree\":\n",
        "        \n",
        "        # degree and node-idx\n",
        "        deg = enumerate(graph.degree())\n",
        "        \n",
        "        # sorting the list \"deg\" by degree, extracting the top-k\n",
        "        out = sorted(deg, key=lambda tup: tup[1], reverse=True)[:topk]\n",
        "    \n",
        "    if opt == \"pagerank\":\n",
        "        \n",
        "        pr = enumerate(graph.pagerank())\n",
        "\n",
        "        # sorting the list \"pr\" by pagerank, extracting the top-k\n",
        "\n",
        "        out = sorted(pr, key=lambda tup: tup[1], reverse=True)[:topk]\n",
        "        \n",
        "    if opt == \"personalized-pr\":\n",
        "        \n",
        "        # here we need also the argument vid, which corresponds to a node-id\n",
        "        pr = enumerate(graph.personalized_pagerank(reset_vertices=vid))\n",
        "\n",
        "        out = sorted(pr, key=lambda tup: tup[1], reverse=True)[:topk]\n",
        "        \n",
        "    return out"
      ],
      "execution_count": 50,
      "outputs": []
    },
    {
      "cell_type": "code",
      "metadata": {
        "id": "Oa6gifBnPVry",
        "colab": {
          "base_uri": "https://localhost:8080/"
        },
        "outputId": "63adc21f-7949-4a02-9126-e757ccc317e6"
      },
      "source": [
        "print_top_k(g, 10, \"pagerank\")"
      ],
      "execution_count": 51,
      "outputs": [
        {
          "output_type": "execute_result",
          "data": {
            "text/plain": [
              "[(16, 0.020605212973505566),\n",
              " (128, 0.014875022352678981),\n",
              " (24, 0.012282634806377197),\n",
              " (34, 0.005466551253901851),\n",
              " (12, 0.004703461244252258),\n",
              " (7, 0.003609175407203987),\n",
              " (78, 0.0033251228503103063),\n",
              " (500, 0.0032506223841624734),\n",
              " (111, 0.003013404512575519),\n",
              " (5, 0.002882298254750507)]"
            ]
          },
          "metadata": {
            "tags": []
          },
          "execution_count": 51
        }
      ]
    },
    {
      "cell_type": "code",
      "metadata": {
        "id": "3wXYc0krPVkd",
        "colab": {
          "base_uri": "https://localhost:8080/"
        },
        "outputId": "786a4059-5252-4251-a012-db6787b872f0"
      },
      "source": [
        "print_top_k(g, 10, \"degree\")"
      ],
      "execution_count": 52,
      "outputs": [
        {
          "output_type": "execute_result",
          "data": {
            "text/plain": [
              "[(16, 1530),\n",
              " (128, 1015),\n",
              " (24, 799),\n",
              " (34, 357),\n",
              " (12, 313),\n",
              " (1872, 310),\n",
              " (78, 285),\n",
              " (500, 276),\n",
              " (1153, 256),\n",
              " (7, 231)]"
            ]
          },
          "metadata": {
            "tags": []
          },
          "execution_count": 52
        }
      ]
    },
    {
      "cell_type": "markdown",
      "metadata": {
        "id": "0L3vkStP3mWF"
      },
      "source": [
        "##5 - NDCG"
      ]
    },
    {
      "cell_type": "code",
      "metadata": {
        "id": "NUxEvJER3mp2"
      },
      "source": [
        "def dcg_at_k(y_true, y_score,  k=10):\n",
        "    order = np.argsort(y_score)[::-1] # get the list of indexes of the predicted score sorted in descending order.\n",
        "    y_true = sorted(y_true, key=y_true.get)[0:10]\n",
        "    gain =  np.power(y_true,2) - 1# Compute gain (use formula 7 above)\n",
        "    discounts = np.log2(np.arange(len(y_true))+2)# Compute denominator\n",
        "    return np.sum(gain / discounts) #return dcg@k\n",
        "\n",
        "def ndcg_at_k(y_true, y_score, k=10):    \n",
        "    dcg_max = dcg_at_k(y_true, y_true, k) # Ideal dcg\n",
        "    if not dcg_max:\n",
        "        return 0\n",
        "    return np.round(dcg_at_k(y_true, y_score, k)/dcg_max,4)"
      ],
      "execution_count": 309,
      "outputs": []
    },
    {
      "cell_type": "markdown",
      "metadata": {
        "id": "gwpnP7fmeR5s"
      },
      "source": [
        "For ADA approach"
      ]
    },
    {
      "cell_type": "code",
      "metadata": {
        "colab": {
          "base_uri": "https://localhost:8080/"
        },
        "id": "ZmzjGjeH6dP7",
        "outputId": "d8bfe176-f695-4fcf-8449-4045a8133f76"
      },
      "source": [
        "q_id = 0\n",
        "k = 10\n",
        "\n",
        "ndcg_k = np.round(ndcg_at_k(ADA_values, test_idxs, k),4)\n",
        "print(\"ndcg@{} for query with q_id={}: {}\".format(k,q_id,ndcg_k))"
      ],
      "execution_count": 312,
      "outputs": [
        {
          "output_type": "stream",
          "text": [
            "ndcg@10 for query with q_id=10: 1.0\n"
          ],
          "name": "stdout"
        }
      ]
    },
    {
      "cell_type": "markdown",
      "metadata": {
        "id": "Njsy0VOpfnpz"
      },
      "source": [
        "For Jaccard Approach"
      ]
    },
    {
      "cell_type": "code",
      "metadata": {
        "colab": {
          "base_uri": "https://localhost:8080/"
        },
        "id": "rCQYsGOefDca",
        "outputId": "4ec192cc-e989-429c-b4ca-fdec0452ea46"
      },
      "source": [
        "q_id = 0\n",
        "k = 10\n",
        "\n",
        "ndcg_k = np.round(ndcg_at_k(values_jaccard, test_idxs, k),4)\n",
        "print(\"ndcg@{} for query with q_id={}: {}\".format(k,q_id,ndcg_k))"
      ],
      "execution_count": 313,
      "outputs": [
        {
          "output_type": "stream",
          "text": [
            "ndcg@10 for query with q_id=0: 1.0\n"
          ],
          "name": "stdout"
        }
      ]
    }
  ]
}